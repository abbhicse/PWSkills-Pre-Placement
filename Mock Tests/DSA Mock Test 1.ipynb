{
 "cells": [
  {
   "cell_type": "markdown",
   "id": "dbef4485",
   "metadata": {},
   "source": [
    "**Q1** Given an integer array nums, move all 0's to the end of it while maintaining the relative order of the non-zero elements.\n",
    "\n",
    "**Note:** You must do this in-place without making a copy of the array.\n",
    "\n",
    "**Example 1:**\n",
    "Input: nums = [0,1,0,3,12]\n",
    "Output: [1,3,12,0,0]\n",
    "\n",
    "**Example 2:**\n",
    "Input: nums = [0]\n",
    "Output: [0]\n",
    "\n",
    "**Constraints:**\n",
    "a. 1 <= nums.length <= 10^4\n",
    "b. -2^31 <= nums[i] <= 2^31 - 1\n",
    "\n",
    "Write a python program with time complexity = O(n) and space complexity = O(1)"
   ]
  },
  {
   "cell_type": "code",
   "execution_count": 1,
   "id": "913a1a27",
   "metadata": {},
   "outputs": [],
   "source": [
    "def move_zeros(nums):\n",
    "    n = len(nums)\n",
    "    zero_count = 0\n",
    "    \n",
    "    # Count the number of zeros\n",
    "    for i in range(n):\n",
    "        if nums[i] == 0:\n",
    "            zero_count += 1\n",
    "    \n",
    "    # Shift non-zero elements to the left\n",
    "    j = 0\n",
    "    for i in range(n):\n",
    "        if nums[i] != 0:\n",
    "            nums[j] = nums[i]\n",
    "            j += 1\n",
    "    \n",
    "    # Fill the remaining elements with zeros\n",
    "    for i in range(j, n):\n",
    "        nums[i] = 0\n",
    "    \n",
    "    return nums\n"
   ]
  },
  {
   "cell_type": "code",
   "execution_count": 2,
   "id": "151a05a5",
   "metadata": {},
   "outputs": [
    {
     "name": "stdout",
     "output_type": "stream",
     "text": [
      "[1, 3, 12, 0, 0]\n",
      "[0]\n"
     ]
    }
   ],
   "source": [
    "nums1 = [0, 1, 0, 3, 12]\n",
    "nums2 = [0]\n",
    "print(move_zeros(nums1))\n",
    "print(move_zeros(nums2))"
   ]
  },
  {
   "cell_type": "markdown",
   "id": "8979d2cf",
   "metadata": {},
   "source": [
    "- The above code defines a function `move_zeros` that takes an array `nums` as input.\n",
    "- It moves all the `zeros` to the `end` while maintaining the `relative order` of the `non-zero` elements. \n",
    "- It uses `two passes` through the array: `one pass` to count the number of `zeros` and another `pass` to `shift` the `non-zero` elements to the `left` and fill the remaining elements with zeros. \n",
    "- The function modifies the input array `in-place` and returns it.\n",
    "- The `time complexity` of the code is `O(n)` because it makes two passes through the array, where n is the length of the array. \n",
    "- The space complexity` is `O(1)` because it uses a constant amount of additional space regardless of the size of the input array."
   ]
  },
  {
   "cell_type": "markdown",
   "id": "609a6b85",
   "metadata": {},
   "source": [
    "**Q2** Given a string s, find the first non-repeating character in it and return its index. If it does not exist, return -1.\n",
    "\n",
    "**Example 1:**\n",
    "Input: s = \"leetcode\"\n",
    "Output: 0\n",
    "\n",
    "**Example 2:**\n",
    "Input: s = \"loveleetcode\"\n",
    "Output: 2\n",
    "\n",
    "**Example 3:**\n",
    "Input: s = \"aabb\"\n",
    "Output: -1\n",
    "\n",
    "**Constraints:**\n",
    "a. 1 <= s.length <= 10^5\n",
    "b. s consists of only lowercase English letters.\n"
   ]
  },
  {
   "cell_type": "code",
   "execution_count": 3,
   "id": "0fc3d990",
   "metadata": {},
   "outputs": [],
   "source": [
    "def find_first_non_repeating(s):\n",
    "    char_freq = {}\n",
    "    \n",
    "    # Count the frequency of each character\n",
    "    for char in s:\n",
    "        char_freq[char] = char_freq.get(char, 0) + 1\n",
    "    \n",
    "    # Find the index of the first non-repeating character\n",
    "    for i, char in enumerate(s):\n",
    "        if char_freq[char] == 1:\n",
    "            return i\n",
    "    \n",
    "    return -1"
   ]
  },
  {
   "cell_type": "code",
   "execution_count": 4,
   "id": "e152daaa",
   "metadata": {},
   "outputs": [
    {
     "name": "stdout",
     "output_type": "stream",
     "text": [
      "0\n",
      "2\n",
      "-1\n"
     ]
    }
   ],
   "source": [
    "# Test the function\n",
    "s1 = \"leetcode\"\n",
    "s2 = \"loveleetcode\"\n",
    "s3 = \"aabb\"\n",
    "\n",
    "print(find_first_non_repeating(s1))  # Output: 0\n",
    "print(find_first_non_repeating(s2))  # Output: 2\n",
    "print(find_first_non_repeating(s3))  # Output: -1\n"
   ]
  },
  {
   "cell_type": "markdown",
   "id": "b4b700db",
   "metadata": {},
   "source": [
    "- I added a new function called `find_first_non_repeating` that takes a string `s` as input.\n",
    "- It counts the `frequency` of each `character` using a `dictionary` `char_freq`.\n",
    "- Then it finds the index of the `first non-repeating` character by iterating over the string again. \n",
    "- Finally, it returns the `index` or `-1` if `no non-repeating character` is found."
   ]
  },
  {
   "cell_type": "code",
   "execution_count": null,
   "id": "e6a9ba92",
   "metadata": {},
   "outputs": [],
   "source": []
  }
 ],
 "metadata": {
  "kernelspec": {
   "display_name": "Python 3 (ipykernel)",
   "language": "python",
   "name": "python3"
  },
  "language_info": {
   "codemirror_mode": {
    "name": "ipython",
    "version": 3
   },
   "file_extension": ".py",
   "mimetype": "text/x-python",
   "name": "python",
   "nbconvert_exporter": "python",
   "pygments_lexer": "ipython3",
   "version": "3.10.9"
  },
  "toc": {
   "base_numbering": 1,
   "nav_menu": {},
   "number_sections": true,
   "sideBar": true,
   "skip_h1_title": false,
   "title_cell": "Table of Contents",
   "title_sidebar": "Contents",
   "toc_cell": false,
   "toc_position": {},
   "toc_section_display": true,
   "toc_window_display": false
  }
 },
 "nbformat": 4,
 "nbformat_minor": 5
}
