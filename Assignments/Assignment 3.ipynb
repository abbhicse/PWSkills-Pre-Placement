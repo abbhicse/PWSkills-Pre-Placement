{
 "cells": [
  {
   "cell_type": "markdown",
   "id": "f4364b01",
   "metadata": {},
   "source": [
    "**Question 1**\n",
    "Given an integer array nums of length n and an integer target, find three integers\n",
    "in nums such that the sum is closest to the target.\n",
    "Return the sum of the three integers.\n",
    "\n",
    "You may assume that each input would have exactly one solution.\n",
    "\n",
    "**Example 1:**\n",
    "Input: nums = [-1,2,1,-4], target = 1\n",
    "Output: 2\n",
    "\n",
    "**Explanation:** The sum that is closest to the target is 2. (-1 + 2 + 1 = 2)."
   ]
  },
  {
   "cell_type": "code",
   "execution_count": 1,
   "id": "35225c62",
   "metadata": {},
   "outputs": [
    {
     "name": "stdout",
     "output_type": "stream",
     "text": [
      "2\n"
     ]
    }
   ],
   "source": [
    "def threeSumClosest(nums, target):\n",
    "    nums.sort()  # Sort the array in ascending order\n",
    "    n = len(nums)\n",
    "    closest_sum = float('inf')  # Initialize closest sum to infinity\n",
    "\n",
    "    for i in range(n - 2):\n",
    "        left = i + 1\n",
    "        right = n - 1\n",
    "\n",
    "        while left < right:\n",
    "            current_sum = nums[i] + nums[left] + nums[right]\n",
    "            if current_sum == target:\n",
    "                return current_sum  # Found the exact target sum\n",
    "\n",
    "            if abs(current_sum - target) < abs(closest_sum - target):\n",
    "                closest_sum = current_sum  # Update closest sum\n",
    "\n",
    "            if current_sum < target:\n",
    "                left += 1  # Move left pointer to increase the sum\n",
    "            else:\n",
    "                right -= 1  # Move right pointer to decrease the sum\n",
    "\n",
    "    return closest_sum\n",
    "\n",
    "nums = [-1, 2, 1, -4]\n",
    "target = 1\n",
    "result = threeSumClosest(nums, target)\n",
    "print(result)"
   ]
  },
  {
   "cell_type": "markdown",
   "id": "10ad5598",
   "metadata": {},
   "source": [
    "- It then uses a nested loop with two pointers `(left and right)` to find the `closest sum` to the target.\n",
    "- If the `current sum` equals the `targe`t, it immediately returns the `target sum`.\n",
    "- If the `absolute difference` between the `current sum` and the `targe`t is smaller than the `absolute difference` between the`closest sum` and the `target`, the function updates the `closest_sum` accordingly.\n",
    "- The `time complexity` of the code is `O(n^2)` due to the `nested loops`, and the `space complexity` is `O(1)` as no extra space is used apart from a few variables."
   ]
  },
  {
   "cell_type": "markdown",
   "id": "180992bd",
   "metadata": {},
   "source": [
    "**Question 2**\n",
    "Given an array nums of n integers, return an array of all the unique quadruplets [nums[a], nums[b], nums[c], nums[d]] such that:\n",
    "- 0 <= a, b, c, d < n\n",
    "- a, b, c, and d are distinct.\n",
    "- nums[a] + nums[b] + nums[c] + nums[d] == target\n",
    "\n",
    "You may return the answer in any order.\n",
    "\n",
    "**Example 1:**\n",
    "Input: nums = [1,0,-1,0,-2,2], target = 0\n",
    "Output: [[-2,-1,1,2],[-2,0,0,2],[-1,0,0,1]]"
   ]
  },
  {
   "cell_type": "code",
   "execution_count": 2,
   "id": "5908192c",
   "metadata": {},
   "outputs": [
    {
     "name": "stdout",
     "output_type": "stream",
     "text": [
      "[[-2, -1, 1, 2], [-2, 0, 0, 2], [-1, 0, 0, 1]]\n"
     ]
    }
   ],
   "source": [
    "def fourSum(nums, target):\n",
    "    nums.sort()\n",
    "    n = len(nums)\n",
    "    result = []\n",
    "\n",
    "    for a in range(n - 3): # a denotes the first element in quadruplets\n",
    "        if a > 0 and nums[a] == nums[a - 1]: # avoid duplicate quadruplets\n",
    "            continue\n",
    "\n",
    "        for b in range(a + 1, n - 2): # a denotes the second element in quadruplets\n",
    "            if b > a + 1 and nums[b] == nums[b - 1]: # avoid duplicate quadruplets\n",
    "                continue\n",
    "\n",
    "            left = b + 1 # left index denotes third element in quadruplets\n",
    "            right = n - 1 # right index denotes fourth element in quadruplets\n",
    "\n",
    "            while left < right: # searching for third and fourth elements\n",
    "                current_sum = nums[a] + nums[b] + nums[left] + nums[right]\n",
    "\n",
    "                if current_sum == target: # Found the desired quadruplet\n",
    "                    result.append([nums[a], nums[b], nums[left], nums[right]])\n",
    "                    left += 1 # need to search for other possible quadruplets\n",
    "                    right -= 1\n",
    "\n",
    "                    while left < right and nums[left] == nums[left - 1]:\n",
    "                        # avoiding duplicate quadruplets\n",
    "                        left += 1\n",
    "\n",
    "                    while left < right and nums[right] == nums[right + 1]:\n",
    "                        # avoiding duplicate quadruplets\n",
    "                        right -= 1\n",
    "\n",
    "                elif current_sum < target:\n",
    "                    left += 1 # Need to increase the sum \n",
    "                else:\n",
    "                    right -= 1 # Need to decrease the sum \n",
    "\n",
    "    return result\n",
    "\n",
    "nums = [1, 0, -1, 0, -2, 2]\n",
    "target = 0\n",
    "result = fourSum(nums, target)\n",
    "print(result)\n"
   ]
  },
  {
   "cell_type": "markdown",
   "id": "c644f7cd",
   "metadata": {},
   "source": [
    "- The `time complexity` of the code is `O(n^3)` due to the `nested loops`. \n",
    "- The `space complexity` is `O(1)` as no `extra space` is used apart from a few variables."
   ]
  },
  {
   "cell_type": "markdown",
   "id": "d4326e25",
   "metadata": {},
   "source": [
    "**Question 3**\n",
    "A permutation of an array of integers is an arrangement of its members into a\n",
    "sequence or linear order.\n",
    "\n",
    "For example, for arr = [1,2,3], the following are all the permutations of arr:\n",
    "[1,2,3], [1,3,2], [2, 1, 3], [2, 3, 1], [3,1,2], [3,2,1].\n",
    "\n",
    "The next permutation of an array of integers is the next lexicographically greater\n",
    "permutation of its integer. More formally, if all the permutations of the array are\n",
    "sorted in one container according to their lexicographical order, then the next\n",
    "permutation of that array is the permutation that follows it in the sorted container.\n",
    "\n",
    "If such an arrangement is not possible, the array must be rearranged as the\n",
    "lowest possible order (i.e., sorted in ascending order).\n",
    "\n",
    "- For example, the next permutation of arr = [1,2,3] is [1,3,2].\n",
    "- Similarly, the next permutation of arr = [2,3,1] is [3,1,2].\n",
    "- While the next permutation of arr = [3,2,1] is [1,2,3] because [3,2,1] does not have a lexicographical larger rearrangement.\n",
    "\n",
    "Given an array of integers nums, find the next permutation of nums.\n",
    "The replacement must be in place and use only constant extra memory.\n",
    "\n",
    "**Example 1:**\n",
    "Input: nums = [1,2,3]\n",
    "Output: [1,3,2]"
   ]
  },
  {
   "cell_type": "code",
   "execution_count": 3,
   "id": "54a7bb79",
   "metadata": {},
   "outputs": [
    {
     "name": "stdout",
     "output_type": "stream",
     "text": [
      "[1, 3, 2]\n",
      "[1, 2, 3]\n"
     ]
    }
   ],
   "source": [
    "def nextPermutation(nums):\n",
    "    # Find the first decreasing element num[i] from the right\n",
    "    i = len(nums) - 2 # Start from the second last element\n",
    "    while i >= 0 and nums[i] >= nums[i + 1]: # Loop until we find an element that is smaller than its right neighbor\n",
    "        i -= 1 # Move to the left\n",
    "\n",
    "    if i >= 0: # If we found such an element\n",
    "        # Find the next greater element to the right of nums[i]\n",
    "        j = len(nums) - 1 # Start from the last element\n",
    "        while j > i and nums[j] <= nums[i]: # Loop until we find an element that is larger than nums[i]\n",
    "            j -= 1 # Move to the left\n",
    "        # Swap nums[i] and nums[j]\n",
    "        nums[i], nums[j] = nums[j], nums[i] # Swap the elements using tuple assignment\n",
    "\n",
    "    # Reverse the suffix after i to get the next lexicographically greater permutation\n",
    "    left = i + 1 # Start from the element after i\n",
    "    right = len(nums) - 1 # Start from the last element\n",
    "    while left < right: # Loop until left and right pointers meet\n",
    "        nums[left], nums[right] = nums[right], nums[left] # Swap the elements using tuple assignment\n",
    "        left += 1 # Move left pointer to the right\n",
    "        right -= 1 # Move right pointer to the left\n",
    "\n",
    "    return nums # Return the modified list\n",
    "\n",
    "# Example input list\n",
    "nums1 = [1, 2, 3] \n",
    "nums2 = [3, 2, 1]\n",
    "print(nextPermutation(nums1)) \n",
    "print(nextPermutation(nums2)) "
   ]
  },
  {
   "cell_type": "markdown",
   "id": "ece420d6",
   "metadata": {},
   "source": [
    "- The edge case where the list is already in `descending` order is handled by the `first` while loop. \n",
    "- If we don’t find any `decreasing` element from the `right`, then i will become `-1`.\n",
    "- In that case, we skip the `if block` and go directly to the `second while loop`, which `reverses` the entire list.\n",
    "- This gives us the `smallest` permutation of the list. For example, if nums = [3, 2, 1], then after the first while loop, `i = -1.` Then, after the second while loop, nums = [1, 2, 3].\n",
    "- The `time complexity` of the code is `O(n)`, and the `space complexity` is `O(1).`"
   ]
  },
  {
   "cell_type": "markdown",
   "id": "a338357c",
   "metadata": {},
   "source": [
    "**Question 4**\n",
    "Given a sorted array of distinct integers and a target value, return the index if the\n",
    "target is found. If not, return the index where it would be if it were inserted in\n",
    "order.\n",
    "\n",
    "You must write an algorithm with O(log n) runtime complexity.\n",
    "\n",
    "**Example 1:**\n",
    "Input: nums = [1,3,5,6], target = 5\n",
    "Output: 2"
   ]
  },
  {
   "cell_type": "code",
   "execution_count": 4,
   "id": "fb2f86a3",
   "metadata": {},
   "outputs": [],
   "source": [
    "def searchInsert(nums, target):\n",
    "    left = 0\n",
    "    right = len(nums) - 1\n",
    "\n",
    "    while left <= right:\n",
    "        mid = left + (right - left) // 2\n",
    "\n",
    "        if nums[mid] == target:\n",
    "            return mid\n",
    "        elif nums[mid] < target:\n",
    "            left = mid + 1\n",
    "        else:\n",
    "            right = mid - 1\n",
    "\n",
    "    return left"
   ]
  },
  {
   "cell_type": "code",
   "execution_count": 5,
   "id": "ffaeb98d",
   "metadata": {},
   "outputs": [
    {
     "name": "stdout",
     "output_type": "stream",
     "text": [
      "2\n"
     ]
    }
   ],
   "source": [
    "nums = [1, 3, 5, 6]\n",
    "target = 5\n",
    "print(searchInsert(nums, target))"
   ]
  },
  {
   "cell_type": "markdown",
   "id": "417f4b3e",
   "metadata": {},
   "source": [
    "- The code uses a `binary search` algorithm to find the `index` of the `target` element in the `sorted` array nums.\n",
    "- If the `target` is found, it returns the `index.`\n",
    "- If the `target` is not found, it determines the correct `index` where the `target` should be inserted to maintain the `sorted` order. \n",
    "- The `time complexity `of the algorithm is `O(log n)` and the `space complexity` is `O(1).`"
   ]
  },
  {
   "cell_type": "markdown",
   "id": "cd818835",
   "metadata": {},
   "source": [
    "**Question 5**\n",
    "You are given a large integer represented as an integer array digits, where each\n",
    "digits[i] is the ith digit of the integer. The digits are ordered from most significant\n",
    "to least significant in left-to-right order. The large integer does not contain any\n",
    "leading 0's.\n",
    "\n",
    "Increment the large integer by one and return the resulting array of digits.\n",
    "\n",
    "**Example 1:**\n",
    "Input: digits = [1,2,3]\n",
    "Output: [1,2,4]\n",
    "\n",
    "**Explanation:** The array represents the integer 123.\n",
    "Incrementing by one gives 123 + 1 = 124.\n",
    "Thus, the result should be [1,2,4]."
   ]
  },
  {
   "cell_type": "code",
   "execution_count": 6,
   "id": "85469f61",
   "metadata": {},
   "outputs": [
    {
     "name": "stdout",
     "output_type": "stream",
     "text": [
      "[1, 2, 4]\n"
     ]
    }
   ],
   "source": [
    "def plusOne(digits):\n",
    "    n = len(digits)  # Get the length of the input array\n",
    "    carry = 1  # Initialize the carry to 1 because we want to increment the number by 1\n",
    "\n",
    "    # Traverse the digits array from right to left\n",
    "    for i in range(n - 1, -1, -1):\n",
    "        # Add the carry to the current digit\n",
    "        digits[i] += carry\n",
    "\n",
    "        # If the digit becomes 10 after adding the carry\n",
    "        if digits[i] == 10:\n",
    "            digits[i] = 0  # Set the digit to 0\n",
    "            carry = 1  # Set the carry to 1 for the next iteration\n",
    "        else:\n",
    "            carry = 0  # Set the carry to 0 and break the loop as there is no further carry\n",
    "\n",
    "    # If there is still a carry after traversing all the digits\n",
    "    if carry == 1:\n",
    "        digits.insert(0, 1)  # Insert 1 at the beginning of the digits array\n",
    "\n",
    "    return digits\n",
    "\n",
    "digits = [1, 2, 3]\n",
    "print(plusOne(digits))"
   ]
  },
  {
   "cell_type": "markdown",
   "id": "10216a22",
   "metadata": {},
   "source": [
    "The `time complexity` of the code is `O(n)`, where `n` is the `length` of the digits array, and the `space complexity` is `O(1)` because we modify the input array `in-place.`"
   ]
  },
  {
   "cell_type": "markdown",
   "id": "619f1939",
   "metadata": {},
   "source": [
    "**Question 6**\n",
    "Given a non-empty array of integers nums, every element appears twice except\n",
    "for one. Find that single one.\n",
    "\n",
    "You must implement a solution with a linear runtime complexity and use only\n",
    "constant extra space.\n",
    "\n",
    "**Example 1:**\n",
    "Input: nums = [2,2,1]\n",
    "Output: 1"
   ]
  },
  {
   "cell_type": "code",
   "execution_count": 7,
   "id": "f9eb3edf",
   "metadata": {},
   "outputs": [
    {
     "name": "stdout",
     "output_type": "stream",
     "text": [
      "1\n"
     ]
    }
   ],
   "source": [
    "def findSingle(nums):\n",
    "    # Initialize the result variable to store the single number\n",
    "    result = 0\n",
    "\n",
    "    # Iterate through the input array\n",
    "    for num in nums:\n",
    "        # XOR the current number with the result\n",
    "        # XOR of two same numbers is 0, so the duplicate numbers will cancel out\n",
    "        # The XOR of a number with 0 is the number itself\n",
    "        result ^= num\n",
    "\n",
    "    # The final result will be the single number that appears only once\n",
    "    return result\n",
    "\n",
    "nums = [2, 2, 1]\n",
    "print(findSingle(nums))"
   ]
  },
  {
   "cell_type": "markdown",
   "id": "2aaea5c1",
   "metadata": {},
   "source": [
    "The `time complexity` of this code is `O(n)` because we iterate through the `input array` once, and the `space complexity` is `O(1)` because we use only a `constant` amount of `extra` space."
   ]
  },
  {
   "cell_type": "markdown",
   "id": "79683bc9",
   "metadata": {},
   "source": [
    "**Question 7**\n",
    "You are given an inclusive range [lower, upper] and a sorted unique integer array\n",
    "nums, where all elements are within the inclusive range.\n",
    "\n",
    "A number x is considered missing if x is in the range [lower, upper] and x is not in\n",
    "nums.\n",
    "\n",
    "Return the shortest sorted list of ranges that exactly covers all the missing\n",
    "numbers. That is, no element of nums is included in any of the ranges, and each\n",
    "missing number is covered by one of the ranges.\n",
    "\n",
    "**Example 1:**\n",
    "Input: nums = [0,1,3,50,75], lower = 0, upper = 99\n",
    "Output: [[2,2],[4,49],[51,74],[76,99]]\n",
    "\n",
    "**Explanation:** The ranges are:\n",
    "\n",
    "[2,2]\n",
    "\n",
    "[4,49]\n",
    "\n",
    "[51,74]\n",
    "\n",
    "[76,99]"
   ]
  },
  {
   "cell_type": "code",
   "execution_count": 8,
   "id": "b2432e32",
   "metadata": {},
   "outputs": [
    {
     "name": "stdout",
     "output_type": "stream",
     "text": [
      "['2->2', '4->49', '51->74', '76->99']\n"
     ]
    }
   ],
   "source": [
    "def findMissingRanges(nums, lower, upper):\n",
    "    # Initialize the result list to store the missing ranges\n",
    "    result = []\n",
    "\n",
    "    # Helper function to add a range to the result list\n",
    "    def addRange(start, end):\n",
    "        result.append(str(start) + \"->\" + str(end))\n",
    "\n",
    "    # Handle the case where the first element is greater than the lower bound\n",
    "    if nums[0] > lower:\n",
    "        addRange(lower, nums[0] - 1)\n",
    "\n",
    "    # Iterate through the nums array\n",
    "    for i in range(1, len(nums)):\n",
    "        # If there is a gap between the current number and the previous number\n",
    "        if nums[i] > nums[i-1] + 1:\n",
    "            addRange(nums[i-1] + 1, nums[i] - 1)\n",
    "\n",
    "    # Handle the case where the last element is smaller than the upper bound\n",
    "    if nums[-1] < upper:\n",
    "        addRange(nums[-1] + 1, upper)\n",
    "\n",
    "    # Return the result list\n",
    "    return result\n",
    "\n",
    "\n",
    "nums = [0, 1, 3, 50, 75]\n",
    "lower = 0\n",
    "upper = 99\n",
    "print(findMissingRanges(nums, lower, upper))\n"
   ]
  },
  {
   "cell_type": "markdown",
   "id": "1061c2ad",
   "metadata": {},
   "source": [
    "The `time complexity` of this code is `O(n)` because it iterates through the `nums` array `once`, where `n` is the `length` of the array. The `space complexity` is `O(1`) because it uses only a `constant amount` of extra space."
   ]
  },
  {
   "cell_type": "markdown",
   "id": "4c410b6c",
   "metadata": {},
   "source": [
    "**Question 8**\n",
    "Given an array of meeting time intervals where intervals[i] = [starti, endi],\n",
    "determine if a person could attend all meetings.\n",
    "\n",
    "**Example 1:**\n",
    "Input: intervals = [[0,30],[5,10],[15,20]]\n",
    "\n",
    "Output: false"
   ]
  },
  {
   "cell_type": "code",
   "execution_count": 9,
   "id": "1702eef1",
   "metadata": {},
   "outputs": [
    {
     "name": "stdout",
     "output_type": "stream",
     "text": [
      "False\n",
      "True\n"
     ]
    }
   ],
   "source": [
    "def canAttendMeetings(intervals):\n",
    "    # Sort the intervals by start time\n",
    "    intervals.sort(key=lambda x: x[0])\n",
    "\n",
    "    # Check if there is any overlap between adjacent intervals\n",
    "    for i in range(1, len(intervals)):\n",
    "        if intervals[i][0] < intervals[i-1][1]:\n",
    "            return False\n",
    "\n",
    "    # No overlap found, person can attend all meetings\n",
    "    return True\n",
    "\n",
    "\n",
    "intervals1 = [[0, 30], [5, 10], [15, 20]]\n",
    "intervals2 = [[0, 10], [15, 35], [40, 50]]\n",
    "print(canAttendMeetings(intervals1))\n",
    "print(canAttendMeetings(intervals2))"
   ]
  },
  {
   "cell_type": "markdown",
   "id": "2cb49158",
   "metadata": {},
   "source": [
    "The `time complexity` of this code is `O(nlogn)` due to the `sorting` operation, where `n` is the number of `intervals.` The `space complexity` is `O(1`) because it uses only a `constant amount` of extra space."
   ]
  },
  {
   "cell_type": "code",
   "execution_count": null,
   "id": "b64a463f",
   "metadata": {},
   "outputs": [],
   "source": []
  }
 ],
 "metadata": {
  "kernelspec": {
   "display_name": "Python 3 (ipykernel)",
   "language": "python",
   "name": "python3"
  },
  "language_info": {
   "codemirror_mode": {
    "name": "ipython",
    "version": 3
   },
   "file_extension": ".py",
   "mimetype": "text/x-python",
   "name": "python",
   "nbconvert_exporter": "python",
   "pygments_lexer": "ipython3",
   "version": "3.10.11"
  },
  "toc": {
   "base_numbering": 1,
   "nav_menu": {},
   "number_sections": true,
   "sideBar": true,
   "skip_h1_title": false,
   "title_cell": "Table of Contents",
   "title_sidebar": "Contents",
   "toc_cell": false,
   "toc_position": {},
   "toc_section_display": true,
   "toc_window_display": false
  }
 },
 "nbformat": 4,
 "nbformat_minor": 5
}
