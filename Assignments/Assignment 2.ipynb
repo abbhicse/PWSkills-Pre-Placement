{
 "cells": [
  {
   "cell_type": "markdown",
   "id": "d50ab9f2",
   "metadata": {},
   "source": [
    "**Question 1**\n",
    "Given an integer array nums of 2n integers, group these integers into n pairs (a1, b1), (a2, b2),..., (an, bn) such that the sum of min(ai, bi) for all i is maximized. Return the maximized sum.\n",
    "\n",
    "**Example 1:**\n",
    "Input: nums = [1,4,3,2]\n",
    "Output: 4\n",
    "\n",
    "**Explanation:** All possible pairings (ignoring the ordering of elements) are:\n",
    "\n",
    "- (1, 4), (2, 3) -> min(1, 4) + min(2, 3) = 1 + 2 = 3\n",
    "- (1, 3), (2, 4) -> min(1, 3) + min(2, 4) = 1 + 2 = 3\n",
    "- (1, 2), (3, 4) -> min(1, 2) + min(3, 4) = 1 + 3 = 4\n",
    "\n",
    "So the maximum possible sum is 4"
   ]
  },
  {
   "cell_type": "code",
   "execution_count": 1,
   "id": "77ccf0b4",
   "metadata": {},
   "outputs": [],
   "source": [
    "def array_pair_sum(nums):\n",
    "    nums.sort()  # Sort the array in ascending order\n",
    "    max_sum = 0\n",
    "    for i in range(0, len(nums), 2):\n",
    "        max_sum += nums[i]  # Add the minimum element from each pair\n",
    "    return max_sum"
   ]
  },
  {
   "cell_type": "code",
   "execution_count": 2,
   "id": "04c8abe8",
   "metadata": {},
   "outputs": [
    {
     "name": "stdout",
     "output_type": "stream",
     "text": [
      "4\n"
     ]
    }
   ],
   "source": [
    "nums = [1, 4, 3, 2]\n",
    "maximized_sum = array_pair_sum(nums)\n",
    "print(maximized_sum)"
   ]
  },
  {
   "cell_type": "markdown",
   "id": "108ee6b1",
   "metadata": {},
   "source": [
    "- I have provided a function called `array_pair_sum` that takes an integer array nums as input and returns the `maximized sum.`\n",
    "- The function first `sorts` the array in `ascending order.` \n",
    "- Then it iterates over the array with a `step size` of `2` to consider each `pair.`\n",
    "- It adds the `minimum` element from each pair to the `max_sum` variable.\n",
    "- The `time complexity` of this code is `O(nlogn)` due to the sorting operation. \n",
    "- The `space complexity` is `O(1)` since we are not using any additional data structures."
   ]
  },
  {
   "cell_type": "markdown",
   "id": "e2902c4d",
   "metadata": {},
   "source": [
    "**Question 2**\n",
    "Alice has n candies, where the ith candy is of type candyType[i]. Alice noticed that she started to gain weight, so she visited a doctor. \n",
    "\n",
    "The doctor advised Alice to only eat n / 2 of the candies she has (n is always even). Alice likes her candies very much, and she wants to eat the maximum number of different types of candies while still following the doctor's advice. \n",
    "\n",
    "Given the integer array candyType of length n, return the maximum number of different types of candies she can eat if she only eats n / 2 of them.\n",
    "\n",
    "**Example 1:**\n",
    "Input: candyType = [1,1,2,2,3,3]\n",
    "Output: 3\n",
    "\n",
    "**Explanation:** Alice can only eat 6 / 2 = 3 candies. Since there are only 3 types, she can eat one of each type."
   ]
  },
  {
   "cell_type": "code",
   "execution_count": 3,
   "id": "e2cb3681",
   "metadata": {},
   "outputs": [
    {
     "name": "stdout",
     "output_type": "stream",
     "text": [
      "3\n",
      "3\n",
      "3\n"
     ]
    }
   ],
   "source": [
    "def max_num_different_candies(candyType):\n",
    "    # Calculate the maximum number of different candies Alice can eat\n",
    "    unique_candies = len(set(candyType))  # Get the number of unique candy types\n",
    "    max_allowed = len(candyType) // 2  # Calculate the maximum number of candies Alice can eat\n",
    "    return min(unique_candies, max_allowed)  # Return the minimum of the two values\n",
    "\n",
    "# unique_candies = 3, max_allowed = 3\n",
    "candyType1 = [1, 1, 2, 2, 3, 3] \n",
    "# unique_candies = 3, max_allowed = 4\n",
    "candyType2 = [1, 1, 1, 2, 2, 3, 3, 3]\n",
    "# unique_candies = 4, max_allowed = 3\n",
    "candyType3 = [1, 1, 2, 2, 3, 3, 4]\n",
    "print(max_num_different_candies(candyType1))\n",
    "print(max_num_different_candies(candyType2))\n",
    "print(max_num_different_candies(candyType3))"
   ]
  },
  {
   "cell_type": "markdown",
   "id": "7d46455a",
   "metadata": {},
   "source": [
    "- a function called `max_num_different_candies` that takes an integer array `candyType` as input and returns the `maximum` number of different `candies` `Alice` can eat while following the `doctor's advice`.\n",
    "- We use the `set` function to get the unique candy types in the array and calculate max_candies.\n",
    "- We calculate `max_allowed` by dividing the `length` of candyType by `2`, representing the `maximum` number of candies `Alice` can eat.\n",
    "- We return the minimum of `unique_candies` and `max_allowed` to ensure Alice doesn't eat more candies than the `available` types or `exceed the doctor's` advice.\n",
    "- The `time complexity` of this code is `O(n)` because we iterate over the candyType array once to calculate the unique candy types. \n",
    "- The `space complexity` is `O(1)` since we are not using any additional data structures."
   ]
  },
  {
   "cell_type": "markdown",
   "id": "3f6a9f9c",
   "metadata": {},
   "source": [
    "**Question 3**\n",
    "We define a harmonious array as an array where the difference between its maximum value\n",
    "and its minimum value is exactly 1.\n",
    "\n",
    "Given an integer array nums, print the longest harmonious subsequence among all its possible subsequences.\n",
    "\n",
    "A subsequence of an array is a sequence that can be derived from the array by deleting some or no elements without changing the order of the remaining elements.\n",
    "\n",
    "**Example 1:**\n",
    "Input: nums = [1,3,2,2,5,2,3,7]\n",
    "Output: 5\n",
    "\n",
    "**Explanation:** The longest harmonious subsequence is [3,2,2,2,3]."
   ]
  },
  {
   "cell_type": "code",
   "execution_count": 4,
   "id": "0007b83f",
   "metadata": {},
   "outputs": [],
   "source": [
    "def findLHS(nums):\n",
    "    num_counts = {}\n",
    "    max_length = 0\n",
    "\n",
    "    for num in nums:\n",
    "        num_counts[num] = num_counts.get(num, 0) + 1\n",
    "\n",
    "    for num in nums:\n",
    "        if num + 1 in num_counts:\n",
    "            length = num_counts[num] + num_counts[num + 1]\n",
    "            max_length = max(max_length, length)\n",
    "\n",
    "    return max_length"
   ]
  },
  {
   "cell_type": "code",
   "execution_count": 5,
   "id": "ec822391",
   "metadata": {},
   "outputs": [
    {
     "name": "stdout",
     "output_type": "stream",
     "text": [
      "5\n"
     ]
    }
   ],
   "source": [
    "print(findLHS([1,3,2,2,5,2,3,7]))"
   ]
  },
  {
   "cell_type": "markdown",
   "id": "8c666d05",
   "metadata": {},
   "source": [
    "- The `findLHS` function takes an integer array nums as input and returns the `length` of the `longest harmonious subsequence`. \n",
    "- It uses a dictionary `num_counts` to store the counts of each number in nums.\n",
    "- First, we iterate over nums to populate `num_counts` with the counts of each number.\n",
    "- Then, we iterate over `nums` again and check if the `current number` `num + 1` exists in num_counts. \n",
    "- If it does, we calculate the length of the `harmonious subsequence` as the sum of the counts of `num` and `num + 1.` \n",
    "- We update `max_length` with the `maximum length` encountered so far.\n",
    "- The `time complexity` of this code is `O(n)`, where n is the length of the input array nums. We iterate over nums `twice`, but each iteration takes `linear time.` \n",
    "- The `space complexity` is `O(n)` as well, since in the worst case, all unique elements in nums will be stored in the `num_counts` dictionary."
   ]
  },
  {
   "cell_type": "markdown",
   "id": "628cb908",
   "metadata": {},
   "source": [
    "**Question 4**\n",
    "You have a long flowerbed in which some of the plots are planted, and some are not.\n",
    "However, flowers cannot be planted in adjacent plots.\n",
    "Given an integer array flowerbed containing 0's and 1's, where 0 means empty and 1 means not empty, and an integer n, return true if n new flowers can be planted in the flowerbed without violating the no-adjacent-flowers rule and false otherwise.\n",
    "\n",
    "**Example 1:**\n",
    "Input: flowerbed = [1,0,0,0,1], n = 1\n",
    "Output: true"
   ]
  },
  {
   "cell_type": "code",
   "execution_count": 6,
   "id": "da9e9777",
   "metadata": {},
   "outputs": [
    {
     "name": "stdout",
     "output_type": "stream",
     "text": [
      "True\n"
     ]
    }
   ],
   "source": [
    "def canPlaceFlowers(flowerbed, n):\n",
    "    count = 0\n",
    "    i = 0\n",
    "    while i < len(flowerbed):\n",
    "        if flowerbed[i] == 0 and (i == 0 or flowerbed[i - 1] == 0) and (i == len(flowerbed) - 1 or flowerbed[i + 1] == 0):\n",
    "            flowerbed[i] = 1\n",
    "            count += 1\n",
    "        i += 1\n",
    "\n",
    "    return count >= n\n",
    "\n",
    "flowerbed = [1, 0, 0, 0, 1]\n",
    "n = 1\n",
    "print(canPlaceFlowers(flowerbed, n))"
   ]
  },
  {
   "cell_type": "markdown",
   "id": "bff573c5",
   "metadata": {},
   "source": [
    "- In the above code, the `canPlaceFlowers` function takes a `flowerbed list` and an integer `n` as input. \n",
    "- It iterates over the `flowerbed list` and checks if the `current` position is `empty (0)`, and if the `previous` and `next` positions are also `empty` or `out of bounds`. \n",
    "- If these conditions are `satisfied`, it places a `flower` in the `current` position and increments the `count`. \n",
    "- Finally, it checks if the `count` is `greater` than or `equal` to n and returns `True` if it is, indicating that `n` new `flowers` can be planted in the `flowerbed` without violating the `no-adjacent-flowers` rule. Otherwise, it returns False.\n",
    "- The `time complexity` of this code is `O(n)`, where `n` is the `length` of the `flowerbed list`, as we iterate over the `flowerbed` once. \n",
    "- The `space complexity` is `O(1)` as we only use a `constant` amount of extra space for the `count` and the `loop` variable."
   ]
  },
  {
   "cell_type": "markdown",
   "id": "a45e9ff6",
   "metadata": {},
   "source": [
    "**Question 5**\n",
    "Given an integer array nums, find three numbers whose product is maximum and return the maximum product.\n",
    "\n",
    "**Example 1:**\n",
    "Input: nums = [1,2,3]\n",
    "Output: 6"
   ]
  },
  {
   "cell_type": "code",
   "execution_count": 7,
   "id": "13be596a",
   "metadata": {},
   "outputs": [
    {
     "name": "stdout",
     "output_type": "stream",
     "text": [
      "6\n",
      "27\n",
      "24\n"
     ]
    }
   ],
   "source": [
    "def maximumProduct(nums):\n",
    "    nums.sort()\n",
    "    n = len(nums)\n",
    "    return max(nums[0] * nums[1] * nums[2], nums[n-3] * nums[n-2] * nums[n-1])\n",
    "\n",
    "# Testing the function\n",
    "nums1 = [1, 2, 3]\n",
    "nums2 = [1, -9, -3, 4, 2, 3]\n",
    "nums3 = [1, -2, -3, 4, 2, 3]\n",
    "print(maximumProduct(nums1)) # product: 6 = 1*2*3\n",
    "print(maximumProduct(nums2)) # product of 3 smallest: 27 = (-9)*(-3)*1 \n",
    "print(maximumProduct(nums3)) # product of 3 largest: 24 = 2*3*4"
   ]
  },
  {
   "cell_type": "markdown",
   "id": "a027f7af",
   "metadata": {},
   "source": [
    "- I have defined a function `maximumProduct` that takes an `integer array nums` as input. \n",
    "- The function `sorts` the array in `ascending order`.\n",
    "- Then it calculates the `maximum product` by considering two cases: either the `maximum product` is the `product` of the `three smallest` numbers or the `product` of the `three largest` numbers. \n",
    "- The function returns the `maximum` of these `two products.`\n",
    "- The `time complexity` of this code is `O(nlogn)` due to the sorting operation.\n",
    "- The `space complexity` is `O(1)` since no extra space is used apart from a few variables."
   ]
  },
  {
   "cell_type": "markdown",
   "id": "82cf4598",
   "metadata": {},
   "source": [
    "**Question 6**\n",
    "Given an array of integers nums which is sorted in ascending order, and an integer target,\n",
    "write a function to search target in nums. If target exists, then return its index. Otherwise,\n",
    "return -1.\n",
    "\n",
    "You must write an algorithm with O(log n) runtime complexity.\n",
    "\n",
    "**Example:**\n",
    "Input: nums = [-1,0,3,5,9,12], target = 9\n",
    "Output: 4\n",
    "\n",
    "**Explanation:** 9 exists in nums and its index is 4"
   ]
  },
  {
   "cell_type": "code",
   "execution_count": 8,
   "id": "3b717db7",
   "metadata": {},
   "outputs": [
    {
     "name": "stdout",
     "output_type": "stream",
     "text": [
      "4\n"
     ]
    }
   ],
   "source": [
    "def binary_search(nums, target):\n",
    "    left = 0\n",
    "    right = len(nums) - 1\n",
    "    \n",
    "    while left <= right:\n",
    "        mid = left + (right - left) // 2\n",
    "        \n",
    "        if nums[mid] == target:\n",
    "            return mid\n",
    "        elif nums[mid] < target:\n",
    "            left = mid + 1\n",
    "        else:\n",
    "            right = mid - 1\n",
    "    \n",
    "    return -1\n",
    "\n",
    "# Testing the function\n",
    "nums = [-1, 0, 3, 5, 9, 12]\n",
    "target = 9\n",
    "print(binary_search(nums, target)) "
   ]
  },
  {
   "cell_type": "markdown",
   "id": "88d6147a",
   "metadata": {},
   "source": [
    "- It uses a `binary search` algorithm to find the target in the sorted array.\n",
    "- The function initializes `left` and `right` pointers to the `start` and `end` of the array, respectively. \n",
    "- It then enters a loop where it calculates the `middle index (mid)` of the current range. \n",
    "- If the value at `mid` is equal to the `target`, the function returns `mid.` -- If the value at `mid` is less than the `target`, the function updates the `left` pointer to `mid + 1` to search in the `right half` of the remaining range.\n",
    "- Otherwise, if the value at `mid` is `greater` than the `target`, the function updates the `right` pointer to `mid - 1` to search in the `left half` of the remaining range. \n",
    "- If the loop ends without finding the target, the function returns `-1` to indicate that the `target` does not `exist` in the array. \n",
    "- This algorithm has a `time complexity` of `O(logn)` and a `space complexity` of `O(1)`."
   ]
  },
  {
   "cell_type": "markdown",
   "id": "5634d78e",
   "metadata": {},
   "source": [
    "**Question 7**\n",
    "An array is monotonic if it is either monotone increasing or monotone decreasing.\n",
    "\n",
    "An array nums is monotone increasing if for all i <= j, nums[i] <= nums[j]. An array nums is\n",
    "monotone decreasing if for all i <= j, nums[i] >= nums[j].\n",
    "\n",
    "Given an integer array nums, return true if the given array is monotonic, or false otherwise.\n",
    "\n",
    "**Example:**\n",
    "Input: nums = [1,2,2,3]\n",
    "Output: true"
   ]
  },
  {
   "cell_type": "code",
   "execution_count": 9,
   "id": "789e016f",
   "metadata": {},
   "outputs": [
    {
     "name": "stdout",
     "output_type": "stream",
     "text": [
      "True\n"
     ]
    }
   ],
   "source": [
    "def is_monotonic(nums):\n",
    "    is_increasing = True\n",
    "    is_decreasing = True\n",
    "    \n",
    "    for i in range(1, len(nums)):\n",
    "        if nums[i] < nums[i - 1]:\n",
    "            is_increasing = False\n",
    "        if nums[i] > nums[i - 1]:\n",
    "            is_decreasing = False\n",
    "    \n",
    "    return is_increasing or is_decreasing\n",
    "\n",
    "# Testing the function\n",
    "nums = [1, 2, 2, 3]\n",
    "print(is_monotonic(nums))"
   ]
  },
  {
   "cell_type": "markdown",
   "id": "d561d6e2",
   "metadata": {},
   "source": [
    "- I added a function called `is_monotonic` that takes an array nums as input and returns `True` if the array is `monotonic (either increasing or decreasing)` and `False` otherwise.\n",
    "- The function iterates through the array starting from the `second element.`\n",
    "- It checks if the current element is `less` than the previous element `(nums[i] < nums[i - 1]).` If it is, it sets the `is_increasing` flag to `False.` \n",
    "- Similarly, it checks if the current element is `greater` than the previous element `(nums[i] > nums[i - 1]).` If it is, it sets the `is_decreasing` flag to `False.`\n",
    "- Finally, the function returns the `logical OR (is_increasing or is_decreasing)` of the two flags, indicating whether the array is `monotonic` or `not.`"
   ]
  },
  {
   "cell_type": "markdown",
   "id": "18af8f96",
   "metadata": {},
   "source": [
    "**Question 8**\n",
    "You are given an integer array nums and an integer k.\n",
    "\n",
    "In one operation, you can choose any index i where 0 <= i < nums.length and change nums[i] to nums[i] + x where x is an integer from the range [-k, k]. You can apply this operation at most once for each index i.\n",
    "\n",
    "The score of nums is the difference between the maximum and minimum elements in nums.\n",
    "\n",
    "Return the minimum score of nums after applying the mentioned operation at most once for each index in it.\n",
    "\n",
    "**Example:**\n",
    "Input: nums = [1], k = 0\n",
    "Output: 0\n",
    "\n",
    "**Explanation:** The score is max(nums) - min(nums) = 1 - 1 = 0."
   ]
  },
  {
   "cell_type": "code",
   "execution_count": 10,
   "id": "94d3b1c7",
   "metadata": {},
   "outputs": [],
   "source": [
    "def min_score(nums, k):\n",
    "    min_num = float('inf')\n",
    "    max_num = float('-inf')\n",
    "\n",
    "    for num in nums:\n",
    "        min_num = min(min_num, num)\n",
    "        max_num = max(max_num, num)\n",
    "\n",
    "    if max_num - min_num <= 2 * k:\n",
    "        return 0\n",
    "\n",
    "    return max_num - min_num - 2 * k"
   ]
  },
  {
   "cell_type": "code",
   "execution_count": 11,
   "id": "2d16cff8",
   "metadata": {},
   "outputs": [
    {
     "data": {
      "text/plain": [
       "0"
      ]
     },
     "execution_count": 11,
     "metadata": {},
     "output_type": "execute_result"
    }
   ],
   "source": [
    "min_score([1], 0)\n"
   ]
  },
  {
   "cell_type": "code",
   "execution_count": 12,
   "id": "703dbb11",
   "metadata": {},
   "outputs": [
    {
     "data": {
      "text/plain": [
       "3"
      ]
     },
     "execution_count": 12,
     "metadata": {},
     "output_type": "execute_result"
    }
   ],
   "source": [
    "min_score([6, 9, 2, 7], 2)"
   ]
  },
  {
   "cell_type": "markdown",
   "id": "d8f90e4c",
   "metadata": {},
   "source": [
    "- After the loop, the code checks if the difference between the `maximum` and `minimum values (max_num - min_num)` is less than or equal to `twice the value of k`.\n",
    "- If the condition is `true`, which means the `difference` is within the `allowable range`, it returns `0` as the minimum score.\n",
    "- Otherwise, it returns the difference between the `maximum` and `minimum` values minus `twice the value of k`. This represents the minimum score after applying the operation.\n",
    "- Time complexity = O(n) as num variable iterates through the `nums` list.\n",
    "- space complexity = O(1) as no extra data structure is used. "
   ]
  },
  {
   "cell_type": "code",
   "execution_count": null,
   "id": "b825cc14",
   "metadata": {},
   "outputs": [],
   "source": []
  }
 ],
 "metadata": {
  "kernelspec": {
   "display_name": "Python 3 (ipykernel)",
   "language": "python",
   "name": "python3"
  },
  "language_info": {
   "codemirror_mode": {
    "name": "ipython",
    "version": 3
   },
   "file_extension": ".py",
   "mimetype": "text/x-python",
   "name": "python",
   "nbconvert_exporter": "python",
   "pygments_lexer": "ipython3",
   "version": "3.10.9"
  },
  "toc": {
   "base_numbering": 1,
   "nav_menu": {},
   "number_sections": true,
   "sideBar": true,
   "skip_h1_title": false,
   "title_cell": "Table of Contents",
   "title_sidebar": "Contents",
   "toc_cell": false,
   "toc_position": {},
   "toc_section_display": true,
   "toc_window_display": false
  }
 },
 "nbformat": 4,
 "nbformat_minor": 5
}
