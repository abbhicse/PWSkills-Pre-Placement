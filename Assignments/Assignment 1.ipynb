{
 "cells": [
  {
   "cell_type": "markdown",
   "id": "5f332058",
   "metadata": {},
   "source": [
    "**Q1.** Given an array of integers nums and an integer target, return indices of the two numbers such that they add up to target.\n",
    "\n",
    "You may assume that each input would have exactly one solution, and you may not use the same element twice.\n",
    "\n",
    "You can return the answer in any order.\n",
    "\n",
    "**Example:**\n",
    "Input: nums = [2,7,11,15], target = 9\n",
    "Output0 [0,1]\n",
    "\n",
    "**Explanation:** Because nums[0] + nums[1] == 9, we return [0, 1]"
   ]
  },
  {
   "cell_type": "code",
   "execution_count": 2,
   "id": "e7a29e13",
   "metadata": {},
   "outputs": [
    {
     "name": "stdout",
     "output_type": "stream",
     "text": [
      "[0, 1]\n"
     ]
    }
   ],
   "source": [
    "def twoSum(nums, target):\n",
    "    complement_dict = {}\n",
    "    for i in range(len(nums)): \n",
    "        complement = target - nums[i]\n",
    "        if complement in complement_dict: \n",
    "            return [complement_dict[complement], i]\n",
    "        complement_dict[nums[i]] = i\n",
    "    return []\n",
    "\n",
    "nums = [2, 7, 11, 15]\n",
    "target = 9\n",
    "result = twoSum(nums, target)\n",
    "print(result)"
   ]
  },
  {
   "cell_type": "markdown",
   "id": "99ad7ee5",
   "metadata": {},
   "source": [
    "- for loop is taking O(n) time complexity\n",
    "- Search for an element in dictionary takes O(1) time complexity as we can find any element in dictionary using an unique key\n",
    "- Overall the code takes time = O(n)\n",
    "- Space complexity is O(n) as extra data structure like dictionary is used"
   ]
  },
  {
   "cell_type": "markdown",
   "id": "61f9ac5a",
   "metadata": {},
   "source": [
    "**Q2.** Given an integer array nums and an integer val, remove all occurrences of val in nums in-place. The order of the elements may be changed. Then return the number of elements in nums which are not equal to val.\n",
    "\n",
    "Consider the number of elements in nums which are not equal to val be k, to get accepted, you need to do the following things:\n",
    "\n",
    "- Change the array nums such that the first k elements of nums contain the elements which are not equal to val. The remaining elements of nums are not important as well as the size of nums.\n",
    "- Return k.\n",
    "\n",
    "**Example :**\n",
    "Input: nums = [3,2,2,3], val = 3\n",
    "Output: 2, nums = [2,2,_,_]\n",
    "\n",
    "**Explanation:** Your function should return k = 2, with the first two elements of nums being 2. It does not matter what you leave beyond the returned k (hence they are underscores)"
   ]
  },
  {
   "cell_type": "code",
   "execution_count": 7,
   "id": "45d336e4",
   "metadata": {},
   "outputs": [
    {
     "name": "stdout",
     "output_type": "stream",
     "text": [
      "2 [2, 2]\n"
     ]
    }
   ],
   "source": [
    "def removeElement(nums, val):\n",
    "    k = 0\n",
    "    for i in range(len(nums)):\n",
    "        if nums[i] != val:\n",
    "            nums[k] = nums[i]\n",
    "            k += 1\n",
    "    return k\n",
    "\n",
    "nums = [3, 2, 2, 3]\n",
    "val = 3\n",
    "k = removeElement(nums, val)\n",
    "print(k, nums[:k])"
   ]
  },
  {
   "cell_type": "markdown",
   "id": "5cd41eed",
   "metadata": {},
   "source": [
    "- This code is copying the element that is not equals to val to the location of the element that is equals to val.\n",
    "- Only in case of last element which is equal to val will not be changed.\n",
    "- k is returning the numbers of the elements that are not equal to val.\n",
    "- Return a list with slicing upto k index.\n",
    "- Time complexity = O(n) with range() function\n",
    "- Space complexity = O(1) as no extra data structuress is used."
   ]
  },
  {
   "cell_type": "markdown",
   "id": "6f68f989",
   "metadata": {},
   "source": [
    "**Q3.** Given a sorted array of distinct integers and a target value, return the index if the target is found. If not, return the index where it would be if it were inserted in order.\n",
    "\n",
    "You must write an algorithm with O(log n) runtime complexity.\n",
    "\n",
    "**Example 1:**\n",
    "Input: nums = [1,3,5,6], target = 5\n",
    "\n",
    "Output: 2\n",
    "\n",
    "Write a python program with O(logn) time complexity and O(1) space complexity."
   ]
  },
  {
   "cell_type": "code",
   "execution_count": 12,
   "id": "2876cc76",
   "metadata": {},
   "outputs": [
    {
     "name": "stdout",
     "output_type": "stream",
     "text": [
      "2\n"
     ]
    }
   ],
   "source": [
    "def searchInsert(nums, target):\n",
    "    left = 0\n",
    "    right = len(nums) - 1\n",
    "\n",
    "    while left <= right:\n",
    "        mid = left + (right - left) // 2\n",
    "\n",
    "        if nums[mid] == target:\n",
    "            return mid\n",
    "        elif nums[mid] < target:\n",
    "            left = mid + 1\n",
    "        else:\n",
    "            right = mid - 1\n",
    "\n",
    "    return left\n",
    "\n",
    "nums = [1, 3, 5, 6]\n",
    "target = 5\n",
    "index = searchInsert(nums, target)\n",
    "print(index)"
   ]
  },
  {
   "cell_type": "markdown",
   "id": "39130dcc",
   "metadata": {},
   "source": [
    "- This code initializes two pointers, `left` and `right`, to the `start` and `end` indices of the array, respectively. \n",
    "- If the value at `mid` is equal to the `target`, it means the `target is found`, and the function returns the `mid` index. \n",
    "- If the value at `mid` is `less` than the `target`, the search is narrowed to the `right half` of the array by updating `left = mid + 1.`\n",
    "- If the value at `mid` is `greater` than the `target`, the search is narrowed to the `left half` of the array by updating `right = mid - 1.`\n",
    "- If the `target` is not found in the array, the `while` loop will exit, and the function will return the `left` index, which represents the `position` where the `target` would be inserted to maintain the `sorted` order.\n",
    "- It is `binary search` with time = O(logn) and space O(1)"
   ]
  },
  {
   "cell_type": "markdown",
   "id": "756e9387",
   "metadata": {},
   "source": [
    "**Q4.** You are given a large integer represented as an integer array digits, where each digits[i] is the ith digit of the integer. The digits are ordered from most significant to least significant in left-to-right order. The large integer does not contain any leading 0's.\n",
    "\n",
    "Increment the large integer by one and return the resulting array of digits.\n",
    "\n",
    "**Example 1:**\n",
    "Input: digits = [1,2,3]\n",
    "Output: [1,2,4]\n",
    "\n",
    "**Explanation:** The array represents the integer 123.\n",
    "\n",
    "Incrementing by one gives 123 + 1 = 124.\n",
    "Thus, the result should be [1,2,4]."
   ]
  },
  {
   "cell_type": "code",
   "execution_count": 34,
   "id": "b8fee5b3",
   "metadata": {},
   "outputs": [
    {
     "name": "stdout",
     "output_type": "stream",
     "text": [
      "[1, 2, 4]\n",
      "[1, 0, 0, 0]\n"
     ]
    }
   ],
   "source": [
    "def plusOne(digits):\n",
    "    n = len(digits)\n",
    "    carry = 1\n",
    "    \n",
    "    for i in range(n - 1, -1, -1):\n",
    "        digit = digits[i]\n",
    "        digits[i] = (digit + carry) % 10\n",
    "        carry = (digit + carry) // 10\n",
    "        \n",
    "        if carry == 0:\n",
    "            break\n",
    "    \n",
    "    if carry == 1:\n",
    "        digits.insert(0, 1)\n",
    "    \n",
    "    return digits\n",
    "\n",
    "digits1 = [1, 2, 3]\n",
    "result1 = plusOne(digits1)\n",
    "print(result1)\n",
    "\n",
    "digits2 = [9, 9, 9]\n",
    "result2 = plusOne(digits2)\n",
    "print(result2)"
   ]
  },
  {
   "cell_type": "markdown",
   "id": "2f4b97ec",
   "metadata": {},
   "source": [
    "- It starts by initializing a carry variable to 1, indicating that we want to increment the number by one. \n",
    "- Then, it iterates over the digits in reverse order, starting from the least significant digit. \n",
    "- It adds the carry to the current digit, updates the digit to the result modulo 10 (to handle carrying over to the next digit), and updates the carry to the result divided by 10 (to check if there is a carry to the next digit). \n",
    "- If the carry becomes 0 during the loop, it breaks out of the loop since there is no need to carry anymore. \n",
    "- Finally, if there is still a remaining carry after the loop, it means the number needs an additional digit, so it inserts 1 at the beginning of the array."
   ]
  },
  {
   "cell_type": "markdown",
   "id": "373159da",
   "metadata": {},
   "source": [
    "**Q5.** You are given two integer arrays nums1 and nums2, sorted in non-decreasing order, and two integers m and n, representing the number of elements in nums1 and nums2 respectively.\n",
    "\n",
    "Merge nums1 and nums2 into a single array sorted in non-decreasing order.\n",
    "\n",
    "The final sorted array should not be returned by the function, but instead be stored inside the array nums1. To accommodate this, nums1 has a length of m + n, where the first m elements denote the elements that should be merged, and the last n elements are set to 0 and should be ignored. nums2 has a length of n.\n",
    "\n",
    "**Example 1:**\n",
    "Input: nums1 = [1,2,3,0,0,0], m = 3, nums2 = [2,5,6], n = 3\n",
    "Output: [1,2,2,3,5,6]\n",
    "\n",
    "**Explanation:** The arrays we are merging are [1,2,3] and [2,5,6].\n",
    "The result of the merge is [1,2,2,3,5,6] with the underlined elements coming from nums1.\n",
    "\n",
    "Write a python code with time = O(n) and space = O(1). Please analyze also the time and space complexity."
   ]
  },
  {
   "cell_type": "code",
   "execution_count": 35,
   "id": "c3270dce",
   "metadata": {},
   "outputs": [
    {
     "name": "stdout",
     "output_type": "stream",
     "text": [
      "[1, 2, 2, 3, 5, 6]\n"
     ]
    }
   ],
   "source": [
    "def merge(nums1, m, nums2, n):\n",
    "    i = m - 1  # Index for nums1\n",
    "    j = n - 1  # Index for nums2\n",
    "    k = m + n - 1  # Index for merged array\n",
    "\n",
    "    while i >= 0 and j >= 0:\n",
    "        if nums1[i] >= nums2[j]:\n",
    "            nums1[k] = nums1[i]\n",
    "            i -= 1\n",
    "        else:\n",
    "            nums1[k] = nums2[j]\n",
    "            j -= 1\n",
    "        k -= 1\n",
    "\n",
    "    # If there are remaining elements in nums2\n",
    "    while j >= 0:\n",
    "        nums1[k] = nums2[j]\n",
    "        j -= 1\n",
    "        k -= 1\n",
    "\n",
    "# Test the function\n",
    "nums1 = [1, 2, 3, 0, 0, 0]\n",
    "m = 3\n",
    "nums2 = [2, 5, 6]\n",
    "n = 3\n",
    "merge(nums1, m, nums2, n)\n",
    "print(nums1)"
   ]
  },
  {
   "cell_type": "markdown",
   "id": "488f7231",
   "metadata": {},
   "source": [
    "- The algorithm uses three pointers: `i for nums1`, `j for nums2`, and `k for the merged array.` \n",
    "- It starts from the end of both arrays `(i = m - 1 and j = n - 1)` and compares the elements at the `respective` positions. \n",
    "- The `larger` element is placed at the `end` of the `merged array (nums1[k])` and the corresponding pointer `(i or j)` is decremented. \n",
    "- The process continues until either `nums1 or nums2` is completely merged.\n",
    "- After the first while loop, if there are any remaining elements in `nums2`, they are placed in the `merged` array.\n",
    "- Time complexity = O(m + n) and space complexity = O(1) as no extra data structures is used."
   ]
  },
  {
   "cell_type": "markdown",
   "id": "5b69e416",
   "metadata": {},
   "source": [
    "**Q6.** Given an integer array nums, return true if any value appears at least twice in the array, and return false if every element is distinct.\n",
    "\n",
    "**Example 1:**\n",
    "Input: nums = [1,2,3,1]\n",
    "\n",
    "Output: true"
   ]
  },
  {
   "cell_type": "code",
   "execution_count": 3,
   "id": "aca08656",
   "metadata": {},
   "outputs": [
    {
     "name": "stdout",
     "output_type": "stream",
     "text": [
      "True\n"
     ]
    }
   ],
   "source": [
    "def containsDuplicate(nums):\n",
    "    num_set = set()\n",
    "    for num in nums:\n",
    "        if num in num_set:\n",
    "            return True\n",
    "        num_set.add(num)\n",
    "    return False\n",
    "\n",
    "# Test the function\n",
    "nums = [1, 2, 3, 1]\n",
    "result = containsDuplicate(nums)\n",
    "print(result)"
   ]
  },
  {
   "cell_type": "markdown",
   "id": "d4f4871c",
   "metadata": {},
   "source": [
    "- It uses a set `num_set` to keep track of `unique` elements encountered so far. \n",
    "- It iterates through each number in `nums` and checks if it already exists in `num_set.` \n",
    "- If it does, it returns `True` indicating that there is a `duplicate` element.\n",
    "- Otherwise, it adds the number to `num_set.` \n",
    "- If the loop completes without finding any `duplicate`s, it returns `False.`\n",
    "- The `time complexity` of this solution is `O(n)` because we iterate through each element in `nums`, and the `space complexity` is `O(1)` because the size of `num_set` is limited by the number of `unique` elements in `nums.`"
   ]
  },
  {
   "cell_type": "markdown",
   "id": "74179374",
   "metadata": {},
   "source": [
    "**Q7.** Given an integer array nums, move all 0's to the end of it while maintaining the relative order of the nonzero elements.\n",
    "\n",
    "Note that you must do this in-place without making a copy of the array.\n",
    "\n",
    "**Example 1:**\n",
    "Input: nums = [0,1,0,3,12]\n",
    "Output: [1,3,12,0,0]"
   ]
  },
  {
   "cell_type": "code",
   "execution_count": 4,
   "id": "2225a22a",
   "metadata": {},
   "outputs": [
    {
     "name": "stdout",
     "output_type": "stream",
     "text": [
      "[1, 3, 12, 0, 0]\n"
     ]
    }
   ],
   "source": [
    "def moveZeroes(nums):\n",
    "    count = 0  # Variable to keep track of the number of non-zero elements\n",
    "    \n",
    "    # Iterate through each element in the array\n",
    "    for i in range(len(nums)):\n",
    "        if nums[i] != 0:\n",
    "            # If the current element is non-zero, move it to the front of the array\n",
    "            nums[count] = nums[i]\n",
    "            count += 1\n",
    "    \n",
    "    # Fill the remaining positions with zeros\n",
    "    while count < len(nums):\n",
    "        nums[count] = 0\n",
    "        count += 1\n",
    "\n",
    "# Test the function\n",
    "nums = [0, 1, 0, 3, 12]\n",
    "moveZeroes(nums)\n",
    "print(nums)\n"
   ]
  },
  {
   "cell_type": "markdown",
   "id": "ff46b998",
   "metadata": {},
   "source": [
    "- It uses the `two-pointer` approach to move all the `zeros` to the `end` of the array while maintaining the `relative order` of the `non-zero` elements.\n",
    "- variable count is to keep track of the number of non-zero elements.\n",
    "- It iterates through `each element` in the array, and if the current element is `non-zero`, it moves it to the `front` of the array at position `count` and `increments count.`\n",
    "- After the first loop, all `non-zero` elements have been placed correctly, and the `remaining` positions in the array from `count` onwards are filled with `zeros` using a `second` loop.\n",
    "- The `time complexity` of this solution is `O(n)` as we iterate through each element in the array once. \n",
    "- The `space complexity` is O(1) as no extra data structures are used."
   ]
  },
  {
   "cell_type": "markdown",
   "id": "1e51d393",
   "metadata": {},
   "source": [
    "**Q8.** You have a set of integers s, which originally contains all the numbers from 1 to n. Unfortunately, due to some error, one of the numbers in s got duplicated to another number in the set, which results in repetition of one number and loss of another number.\n",
    "\n",
    "You are given an integer array nums representing the data status of this set after the error.\n",
    "\n",
    "Find the number that occurs twice and the number that is missing and return them in the form of an array.\n",
    "\n",
    "**Example 1:**\n",
    "Input: nums = [1,2,2,4]\n",
    "Output: [2,3]\n",
    "\n",
    "Write a python code with time = O(n) and space = O(1)"
   ]
  },
  {
   "cell_type": "code",
   "execution_count": 1,
   "id": "89f94471",
   "metadata": {},
   "outputs": [
    {
     "name": "stdout",
     "output_type": "stream",
     "text": [
      "[2, 3]\n"
     ]
    }
   ],
   "source": [
    "def findErrorNums(nums):\n",
    "    n = len(nums)\n",
    "    xor_sum = 0\n",
    "    for i in range(1, n+1):\n",
    "        xor_sum ^= i\n",
    "    for num in nums:\n",
    "        xor_sum ^= num\n",
    "    # Find the rightmost set bit in xor_sum\n",
    "    rightmost_set_bit = xor_sum & ~(xor_sum - 1)\n",
    "    missing = 0\n",
    "    duplicate = 0\n",
    "    for i in range(1, n+1):\n",
    "        if i & rightmost_set_bit:\n",
    "            missing ^= i\n",
    "        else:\n",
    "            duplicate ^= i\n",
    "    for num in nums:\n",
    "        if num & rightmost_set_bit:\n",
    "            missing ^= num\n",
    "        else:\n",
    "            duplicate ^= num\n",
    "    return [duplicate, missing]\n",
    "\n",
    "# Test the function\n",
    "nums = [1, 2, 2, 4]\n",
    "result = findErrorNums(nums)\n",
    "print(result)"
   ]
  },
  {
   "cell_type": "markdown",
   "id": "74fd22c1",
   "metadata": {},
   "source": [
    "The algorithm works as follows:\n",
    "\n",
    "- Calculate the `XOR` of all numbers from `1 to n` and store it in `xor_sum.` This will give us the XOR of the duplicate number and the missing number.\n",
    "- Find the `rightmost` set bit in `xor_sum.`\n",
    "- Iterate from `1 to n` and `XOR` the numbers based on whether their `rightmost` set bit is set or not. This will help us separate the `duplicate number` and the `missing number.`\n",
    "- The code has a `time complexity` of `O(n)` as it involves `two passes` through the `array`. \n",
    "- The `space complexity` of` O(1)` as it uses a `constant` amount of `extra space` to store the results."
   ]
  },
  {
   "cell_type": "code",
   "execution_count": null,
   "id": "0e64af0e",
   "metadata": {},
   "outputs": [],
   "source": []
  }
 ],
 "metadata": {
  "kernelspec": {
   "display_name": "Python 3 (ipykernel)",
   "language": "python",
   "name": "python3"
  },
  "language_info": {
   "codemirror_mode": {
    "name": "ipython",
    "version": 3
   },
   "file_extension": ".py",
   "mimetype": "text/x-python",
   "name": "python",
   "nbconvert_exporter": "python",
   "pygments_lexer": "ipython3",
   "version": "3.10.9"
  },
  "toc": {
   "base_numbering": 1,
   "nav_menu": {},
   "number_sections": true,
   "sideBar": true,
   "skip_h1_title": false,
   "title_cell": "Table of Contents",
   "title_sidebar": "Contents",
   "toc_cell": false,
   "toc_position": {},
   "toc_section_display": true,
   "toc_window_display": false
  }
 },
 "nbformat": 4,
 "nbformat_minor": 5
}
